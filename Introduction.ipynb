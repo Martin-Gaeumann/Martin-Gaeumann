{
  "cells": [
    {
      "cell_type": "markdown",
      "metadata": {
        "id": "pouG2g24wELu"
      },
      "source": [
        "[![Binder](https://mybinder.org/badge_logo.svg)](https://mybinder.org/v2/gh/KingaS03/Mathematics-for-Machine-Learning-and-Data-Science/master)\n",
        "\n",
        "[![Open In Colab](https://colab.research.google.com/assets/colab-badge.svg)](https://colab.research.google.com/github/KingaS03/Mathematics-for-Machine-Learning-and-Data-Science)\n",
        "\n",
        "|[ Linear Algebra ](LinearAlgebra.ipynb)>\n",
        "\n",
        "# 1. Introduction to the Mathematics Module for ML and DS"
      ]
    },
    {
      "cell_type": "markdown",
      "metadata": {
        "id": "qf6gkd9awELx"
      },
      "source": [
        "Artificial Intelligence (AI), Machine Learning (ML), and Deep Learning (DL) are interconnected fields that represent different layers of sophistication and capabilities in computing systems designed to mimic human intelligence and automate tasks. Here's a breakdown of how they relate to each other:\n",
        "\n",
        "Artificial Intelligence\n",
        "└── Machine Learning\n",
        "    └── Deep Learning\n",
        "\n",
        "1. **Artificial Intelligence (AI) is the overarching discipline.**\n",
        "AI is the broadest concept, encompassing the idea of machines being able to carry out tasks in a way that we would consider \"smart\" or intelligent. It includes any technique that enables computers to mimic human behavior, including robotics, natural language processing, and more.\n",
        "\n",
        "2. **Machine Learning (ML) is one approach to achieve AI.**\n",
        "Machine Learning is a subset of AI that involves training a model on data. It uses statistical techniques to give computers the ability to \"learn\" from data, without being explicitly programmed. ML systems learn from past experiences (or data) and apply this learning to new data to make predictions or decisions. Common examples include recommendation systems like those on Netflix or Amazon, spam filtering, and predictive texting.\n",
        "\n",
        "3. **Deep Learning (DL) is a specific method under ML that has proved very effective at learning from large quantities of data.**\n",
        "Deep Learning is a subset of ML that uses structures inspired by the human brain, known as artificial neural networks. This approach has been especially effective at learning from large amounts of data and is behind many breakthroughs that have powered sophisticated AI tasks in recent years. DL techniques are primarily responsible for the advances in image and speech recognition, language translation, and complex game playing.\n",
        "\n",
        "## 1.1. Machine learning versus classical programming\n",
        "First let's take a look at machine learning and compare it with classical programming.\n",
        "\n",
        "------------------------------------\n",
        "*Machine Learning is the \"field of study that gives computers the ability to learn without being explicitly programmed.\"* - Arthur Samuel, 1959\n",
        "\n",
        "-------------------------------------\n",
        "\n",
        "<center>\n",
        "<img src=\"https://github.com/KingaS03/Mathematics-for-Machine-Learning-and-Data-Science/blob/master/Images/TraditionalProgr.png?raw=1\" width=\"300\">\n",
        "</center>\n",
        "\n",
        "versus\n",
        "\n",
        "<center>\n",
        "<img src=\"https://github.com/KingaS03/Mathematics-for-Machine-Learning-and-Data-Science/blob/master/Images/MachineLearning0.png?raw=1\" width=\"300\">\n",
        "</center>\n",
        "\n",
        "In case of some machine learning problems the resulting rules can be conceived as a model, which for any input data is able to predict the associated output.\n",
        "\n",
        "<center>\n",
        "<img src=\"https://github.com/KingaS03/Mathematics-for-Machine-Learning-and-Data-Science/blob/master/Images/MachineLearning1.png?raw=1\" width=\"300\">\n",
        "</center>\n",
        "\n",
        "Mathematically we can think of this model as a function that assigns to an input value a predicted output value and at the same time it depends also on some model parameters (weights and intercept). The model parameters are determined in such a way to minimise the loss function. This phenomenon is concisely described in the following quote:\n",
        "\n",
        "-----------\n",
        "\n",
        "*\"A computer program is said to learn from experience E with respect to some task T and some performance measure P, if its performance on T, as measured by P, improves with experience E.\"* - Tom Mitchell, 1997\n",
        "\n",
        "---------------\n",
        "\n",
        "Supervised and unsupervised learning are two fundamental categories of machine learning, each serving different purposes and utilizing different types of data inputs. Let's clarify these concepts and highlight some of the major tasks associated with each.\n",
        "\n",
        "**Supervised versus unsupervised learning**\n",
        "\n",
        "**1. Supervised learning**\n",
        "Supervised learning involves training a model on a labelled dataset, where each training example is paired with an output label. The model's goal is to learn the mapping from inputs to outputs, which it can then use to predict the outputs for new, unseen data. Supervised learning is typically used in situations where historical data predicts likely future events.\n",
        "\n",
        "Major tasks in supervised learning:\n",
        "- **Classification**: Assigns a category to each input. For example, determining whether an email is spam or not spam.\n",
        "- **Regression**: Predicts a continuous value for each input, such as predicting the price of a house based on its features like size, location, and age.\n",
        "\n",
        "**2. Unsupervised learning**\n",
        "In contrast to supervised learning, unsupervised learning uses data without labelled responses. Here, the goal is to infer the natural structure present within a set of data points. Unsupervised learning is useful for discovering hidden patterns or intrinsic structures in data.\n",
        "\n",
        "Major tasks in unsupervised learning:\n",
        "- **Clustering**: Groups a set of objects in such a way that objects in the same group (called a cluster) are more similar to each other than to those in other groups. Examples include segmenting customers into distinct groups based on purchasing behaviour.\n",
        "- **Dimensionality Reduction**: Reduces the number of random variables under consideration, by obtaining a set of principal variables. Techniques like PCA (Principal Component Analysis) are used to simplify the data without losing critical information.\n",
        "\n",
        "Now we are going to consider a common machine learning context, as this is illustrating all the major components of our course."
      ]
    },
    {
      "cell_type": "markdown",
      "source": [
        "## 1.2. Simple machine learning setting - Linear regression\n",
        "One of the simplest settings of a machine learning algorithm is the linear regression. To get a quick intuition about how it works play with the below interactive graph. You can change the position of the blue datapoints by dragging them with the mouse. You can change the position of the red line by moving the two red points of it.\n",
        "\n",
        "What happens on the plot on the right hand side if you change the position of one of the red points? How can you explain the observed behaviour?\n",
        "\n",
        "Take a look at the blue and red values in the upper right corner. How do these values change?\n",
        "\n",
        "What is the starting point of a regression analysis and what is its objective?"
      ],
      "metadata": {
        "id": "rY14ynZD6CpQ"
      }
    },
    {
      "cell_type": "code",
      "execution_count": 1,
      "metadata": {
        "id": "mdP0xWVkwELy",
        "outputId": "6c1d1dbe-2397-43c5-d0f4-6e4b787966ce",
        "colab": {
          "base_uri": "https://localhost:8080/",
          "height": 621
        }
      },
      "outputs": [
        {
          "output_type": "execute_result",
          "data": {
            "text/plain": [
              "<IPython.lib.display.IFrame at 0x7c353e858710>"
            ],
            "text/html": [
              "\n",
              "        <iframe\n",
              "            width=\"1400\"\n",
              "            height=\"600\"\n",
              "            src=\"https://www.geogebra.org/classic/gvtvpem2\"\n",
              "            frameborder=\"0\"\n",
              "            allowfullscreen\n",
              "            \n",
              "        ></iframe>\n",
              "        "
            ]
          },
          "metadata": {},
          "execution_count": 1
        }
      ],
      "source": [
        "from IPython.display import IFrame\n",
        "\n",
        "#IFrame(\"https://www.geogebra.org/m/xC6zq7Zv\",800,800)\n",
        "IFrame(\"https://www.geogebra.org/classic/gvtvpem2\", 1400, 600)"
      ]
    },
    {
      "cell_type": "markdown",
      "metadata": {
        "id": "wRwgW8ZOwEL0"
      },
      "source": [
        "Let's take a look at a concrete numerical example:\n",
        "\n",
        "We would like to predict the price of apartments as a linear function of their surface.\n",
        "\n",
        "We consider the following data points:\n",
        "    \n",
        "| Surface area in $m^2$ | Price in tausends of CHF |\n",
        "| --- | --- |\n",
        "| 40| 275|\n",
        "| 70 | 500 |\n",
        "| 80 | 470 |\n",
        "| 100 | 650 |\n",
        "| 115 | 690 |\n",
        "| 120 | 750 |\n",
        "\n",
        "The surface area, denoted by $x$, is the primary **explanatory** or **independent variable**.\n",
        "\n",
        "The price, denoted by $y$, serves as the **response** or **dependent variable**.\n",
        "\n",
        "The apartments, whose prices are listed in the table, are referred to as **observations**. We will describe their characteristics — specifically, surface and price — using $x_i$ and $y_i$, respectively, where $i$ indexes the apartment ($i = \\overline{0,5}$).\n",
        "\n",
        "We would like to approximate our data points by a line defined by the equation\n",
        "$$ y = w\\cdot x + b,$$\n",
        "where $w$ is called **weight/gradient** and $b$ is called **intercept**. These parameters $w$ and $b$ are determined in such a way that the mean squared error of the approximations is minimal.\n",
        "\n",
        "For our set of apartments the **$MSE$ (mean squared error)** can be calculated as follows:\n",
        "$$\\begin{align*}\n",
        "MSE &= \\frac{1}{6}\\sum_{i=0}^5 \\left(y_i - (w \\cdot x_i + b)\\right)^2\\\\\n",
        "& = \\frac{1}{6}\\left(\\left(275-(w\\cdot 40 + b)\\right)^2 + \\left(500-(w\\cdot 70 + b)\\right)^2 + \\left(470-(w\\cdot 80 + b)\\right)^2 + \\left(650-(w\\cdot 100 + b)\\right)^2 + \\left(690-(w\\cdot 115 + b)\\right)^2 + \\left(750-(w\\cdot 120 + b)\\right)^2\\right)\n",
        "\\end{align*}$$\n",
        "\n",
        "$MSE$ is a function of the parameters $b$ and $w$.\n",
        "\n",
        "The goal is to determine the parameters $b$ and $w$ in such a way to obtain the minimal $MSE$.\n",
        "\n",
        "Experiment with the following code. Fit the red line to the data points by trying out different values for the parameters $w$ and $b$."
      ]
    },
    {
      "cell_type": "code",
      "execution_count": 6,
      "metadata": {
        "colab": {
          "base_uri": "https://localhost:8080/",
          "height": 510
        },
        "id": "gLwmIJJnwEL0",
        "outputId": "e092c4e0-c793-4969-b941-6a6e654c66a2"
      },
      "outputs": [
        {
          "output_type": "execute_result",
          "data": {
            "text/plain": [
              "Text(0, 0.5, 'Price (tausend CHF)')"
            ]
          },
          "metadata": {},
          "execution_count": 6
        },
        {
          "output_type": "display_data",
          "data": {
            "text/plain": [
              "<Figure size 640x480 with 1 Axes>"
            ],
            "image/png": "[encoded data removed]"
          },
          "metadata": {}
        }
      ],
      "source": [
        "import matplotlib.pyplot as plt\n",
        "import numpy as np\n",
        "\n",
        "# 300 random samples\n",
        "x = np.array([40, 70, 80, 100, 115, 120])\n",
        "y = np.array([275, 500, 470, 650, 690, 750])\n",
        "\n",
        "plt.plot(x, y, 'o') #scatter plot of data points\n",
        "\n",
        "w = 6 # change this value\n",
        "b = 50 # change this value\n",
        "\n",
        "plt.plot(x, b + w*x) #add line of best fit\n",
        "\n",
        "MSE = np.mean((y-(b + w*x))**2)\n",
        "\n",
        "# legend, title, and labels.\n",
        "plt.text(40,700, f\"MSE ={MSE:.2f}\")\n",
        "plt.title('Surface area and price of apartments', size=18)\n",
        "plt.xlabel('Surface ($m^2$)', size=18)\n",
        "plt.ylabel('Price (tausend CHF)', size=18)"
      ]
    },
    {
      "cell_type": "markdown",
      "metadata": {
        "id": "kKLz-bbJwEL0"
      },
      "source": [
        "Compare your values with the optimal ones, by running the code<br>\n",
        "`w, b = np.polyfit(x, y, 1)`."
      ]
    },
    {
      "cell_type": "code",
      "source": [
        "w, b = np.polyfit(x, y, 1)\n",
        "print(w,b)"
      ],
      "metadata": {
        "id": "Acgm2fBWK-vS",
        "outputId": "a7af90b7-531e-43a5-aa71-0cf4d899bc6a",
        "colab": {
          "base_uri": "https://localhost:8080/"
        }
      },
      "execution_count": 8,
      "outputs": [
        {
          "output_type": "stream",
          "name": "stdout",
          "text": [
            "5.697547683923706 57.297910990009\n"
          ]
        }
      ]
    },
    {
      "cell_type": "markdown",
      "metadata": {
        "id": "KEXvTwpUwEL1"
      },
      "source": [
        "Due to the simplicity of the linear model, it is possible to derive the explicit formulas for the parameters by calculating the partial derivatives of the $MSE$ w.r.t. the parameters and setting the values of these to $0$. Without detailed explanation, from\n",
        "$$\\frac{\\partial MSE}{\\partial w} = 0, \\quad \\frac{\\partial MSE}{\\partial b} = 0$$\n",
        "one can conclude:\n",
        "$$\\left\\{\\begin{align*}\n",
        "w &= \\frac{\\sum\\limits_i (x_i - \\overline{x})\\cdot (y_i-\\overline{y})}{\\sum\\limits_i(x_i - \\overline{x})^2} = 5.70\\\\\n",
        "b &= \\overline{y}-w\\cdot \\overline{x} = 57.30\n",
        "\\end{align*}\\right.\n",
        "$$\n",
        "where $$\\displaystyle\\overline{x} = \\frac{\\sum_i x_i}{n} \\mbox{ and } \\displaystyle\\overline{y} = \\frac{\\sum_i y_i}{n}.$$\n"
      ]
    },
    {
      "cell_type": "markdown",
      "metadata": {
        "id": "hgLN8Zm7wEL1"
      },
      "source": [
        "## 1.3. Neural networks\n",
        "The above univariate linear regression model can be represented as\n",
        "\n",
        "<center>\n",
        "<img src=\"https://github.com/KingaS03/Mathematics-for-Machine-Learning-and-Data-Science/blob/master/Images/Network0.png?raw=1\" width=\"300\">\n",
        "</center>\n",
        "\n",
        "For the future notation we leave away the virtual input of 1.\n",
        "\n",
        "Now we make the model more complex by extending it step-by-step to a two-layer neural network. First we apply an activation function $g$ to the linear transformation $b+w \\cdot x$.\n",
        "\n",
        "<center>\n",
        "<img src=\"https://github.com/KingaS03/Mathematics-for-Machine-Learning-and-Data-Science/blob/master/Images/Network1.png?raw=1\" width=\"320\">\n",
        "</center>\n",
        "\n",
        "The above red ball corresponds to the smallest building unit of a neural network, namely a **neuron**. In a neuron:\n",
        "- there happens **a linear transformation**\n",
        "- to which **an activation function** is applied and this provides the output of the neuron.\n",
        "\n",
        "Next we allow for more inputs.\n",
        "<center>\n",
        "<img src=\"https://github.com/KingaS03/Mathematics-for-Machine-Learning-and-Data-Science/blob/master/Images/MultiNetwork00.png?raw=1\" width=\"320\">\n",
        "</center>\n",
        "\n",
        "Finally we allow also for more outputs and we have two hidden layers.\n",
        "<center>\n",
        "<img src=\"https://github.com/KingaS03/Mathematics-for-Machine-Learning-and-Data-Science/blob/master/Images/MultiNetwork2.png?raw=1\" width=\"500\">\n",
        "</center>\n",
        "\n",
        "The number of hidden layers indicates that the last neural network is a two-layer neural network.\n"
      ]
    },
    {
      "cell_type": "markdown",
      "metadata": {
        "id": "AtNO_FF2wEL1"
      },
      "source": [
        "## 1.4. Motivation\n",
        "## 1.4. Motivation\n",
        "\n",
        "As with linear regression, the weight matrices $W^{(1)}$ and $W^{(2)}$, alongside the intercepts $b^{(1)}$ and $b^{(2)}$, function as parameters of **the loss function**, which is subject to **minimisation**. Typically, there is no direct formula for determining the optimal parameters.\n",
        "\n",
        "<center>\n",
        "The minimum of the loss function can be approximated by the <b>gradient descent</b> method.\n",
        "    $$\\hspace{-2cm}\\Uparrow$$\n",
        "This method necessitates the computation of <b>partial derivatives</b> of the outputs with respect to all model parameters.\n",
        "    $$\\hspace{-2cm}\\Uparrow$$\n",
        "In neural networks with multiple hidden layers and differentiable activation functions, these partial derivatives are determined by employing the <b>chain rule</b>.\n",
        "$$\\hspace{-2cm}\\Uparrow$$\n",
        "To apply the chain rule for such network settings, one needs to perform <b>matrix multiplications</b>.\n",
        "</center>\n",
        "\n",
        "The complexity of machine learning models often results in a vast number of parameters, requiring substantial input data for effective training. In scenarios of large data dimensionality and limited data availability **dimensionality reduction** techniques such as **PCA (Principal Component Analysis)** or singular value decomposition are employed to reduce the number of model parameters. PCA is more commonly used among statisticians, while singular value decomposition is favoured by theoretical mathematicians.\n",
        "Essential concepts for PCA include **orthogonal projection**, **eigenvalues and eigenvectors**, **the method of Lagrange multipliers**, and some foundational **descriptive statistics**."
      ]
    },
    {
      "cell_type": "markdown",
      "metadata": {
        "id": "Df6nQDL-wEL2"
      },
      "source": [
        "<center>\n",
        "<img src=\"https://github.com/KingaS03/Mathematics-for-Machine-Learning-and-Data-Science/blob/master/Images/Roadmap_NeuralNetworks.png?raw=1\" width=\"800\">\n",
        "</center>"
      ]
    },
    {
      "cell_type": "markdown",
      "metadata": {
        "id": "PDSu1iwAwEL2"
      },
      "source": [
        "## 1.5. Schedule\n",
        "\n",
        "- Linear algebra\n",
        "\n",
        "- Calculus\n",
        "\n",
        "- Probability theory and statistics\n",
        "\n",
        "- PCA"
      ]
    },
    {
      "cell_type": "markdown",
      "metadata": {
        "id": "Z8lFNUG8wEL2"
      },
      "source": [
        "|[ Linear Algebra ](LinearAlgebra.ipynb)>"
      ]
    }
  ],
  "metadata": {
    "kernelspec": {
      "display_name": "Python 3 (ipykernel)",
      "language": "python",
      "name": "python3"
    },
    "language_info": {
      "codemirror_mode": {
        "name": "ipython",
        "version": 3
      },
      "file_extension": ".py",
      "mimetype": "text/x-python",
      "name": "python",
      "nbconvert_exporter": "python",
      "pygments_lexer": "ipython3",
      "version": "3.10.9"
    },
    "colab": {
      "provenance": []
    }
  },
  "nbformat": 4,
  "nbformat_minor": 0
}