{
  "cells": [
    {
      "cell_type": "markdown",
      "metadata": {
        "id": "sV8k3oH0JrcW"
      },
      "source": [
        "<!--BOOK_INFORMATION-->\n",
        "<img align=\"left\" style=\"padding-right:10px;\" src=\"https://github.com/KingaS03/Introduction-to-Python/blob/master/Course/fig/cover-small.jpg?raw=1\">\n",
        "\n",
        "*This notebook contains an excerpt from the [Whirlwind Tour of Python](http://www.oreilly.com/programming/free/a-whirlwind-tour-of-python.csp) by Jake VanderPlas; the content is available [on GitHub](https://github.com/jakevdp/WhirlwindTourOfPython).*\n",
        "\n",
        "*The text and code are released under the [CC0](https://github.com/jakevdp/WhirlwindTourOfPython/blob/master/LICENSE) license; see also the companion project, the [Python Data Science Handbook](https://github.com/jakevdp/PythonDataScienceHandbook).*\n"
      ]
    },
    {
      "cell_type": "markdown",
      "metadata": {
        "id": "UCUFtSw0JrcX"
      },
      "source": [
        "<!--NAVIGATION-->\n",
        "< [Basic Python Semantics: Operators](01_04-Semantics-Operators.ipynb) | [Contents](Index.ipynb) | [Built-In Data Structures](01_06-Built-in-Data-Structures.ipynb) >"
      ]
    },
    {
      "cell_type": "markdown",
      "metadata": {
        "id": "NaNiqGlDJrcY"
      },
      "source": [
        "# Built-In Types: Simple Values"
      ]
    },
    {
      "cell_type": "markdown",
      "metadata": {
        "id": "nf_Ux5hxJrcY"
      },
      "source": [
        "When discussing Python variables and objects, we mentioned the fact that all Python objects have type information attached. Here we'll briefly walk through the built-in simple types offered by Python.\n",
        "We say \"simple types\" to contrast with several compound types, which will be discussed in the following section.\n",
        "\n",
        "Python's simple types are summarized in the following table:\n",
        "\n",
        "<center>**Python Scalar Types**</center>\n",
        "\n",
        "| Type        | Example        | Description                                                  |\n",
        "|-------------|----------------|--------------------------------------------------------------|\n",
        "| ``int``     | ``x = 1``      | integers (i.e., whole numbers)                               |\n",
        "| ``float``   | ``x = 1.0``    | floating-point numbers (i.e., real numbers)                  |\n",
        "| ``complex`` | ``x = 1 + 2j`` | Complex numbers (i.e., numbers with real and imaginary part) |\n",
        "| ``bool``    | ``x = True``   | Boolean: True/False values                                   |\n",
        "| ``str``     | ``x = 'abc'``  | String: characters or text                                   |\n",
        "| ``NoneType``| ``x = None``   | Special object indicating nulls                              |\n",
        "\n",
        "We'll take a quick look at each of these in turn."
      ]
    },
    {
      "cell_type": "markdown",
      "metadata": {
        "id": "NX6r7zxFJrcY"
      },
      "source": [
        "## Integers\n",
        "The most basic numerical type is the integer.\n",
        "Any number without a decimal point is an integer:"
      ]
    },
    {
      "cell_type": "code",
      "execution_count": 1,
      "metadata": {
        "id": "kVS4CE--JrcY",
        "outputId": "4f7bf547-a745-42e1-c1e8-c82eff4797bf",
        "colab": {
          "base_uri": "https://localhost:8080/"
        }
      },
      "outputs": [
        {
          "output_type": "execute_result",
          "data": {
            "text/plain": [
              "int"
            ]
          },
          "metadata": {},
          "execution_count": 1
        }
      ],
      "source": [
        "x = 1\n",
        "type(x)"
      ]
    },
    {
      "cell_type": "markdown",
      "metadata": {
        "id": "ua_68-V_JrcZ"
      },
      "source": [
        "Python integers are actually quite a bit more sophisticated than integers in languages like ``C``.\n",
        "C integers are fixed-precision, and usually overflow at some value (often near $2^{31}$ or $2^{63}$, depending on your system).\n",
        "Python integers are variable-precision, so you can do computations that would overflow in other languages:"
      ]
    },
    {
      "cell_type": "code",
      "execution_count": 2,
      "metadata": {
        "id": "1anN1LkqJrca",
        "outputId": "22ace442-0646-4265-fd03-44ec8fd72193",
        "colab": {
          "base_uri": "https://localhost:8080/"
        }
      },
      "outputs": [
        {
          "output_type": "execute_result",
          "data": {
            "text/plain": [
              "1606938044258990275541962092341162602522202993782792835301376"
            ]
          },
          "metadata": {},
          "execution_count": 2
        }
      ],
      "source": [
        "2 ** 200"
      ]
    },
    {
      "cell_type": "markdown",
      "metadata": {
        "id": "XokCF0HNJrca"
      },
      "source": [
        "Another convenient feature of Python integers is that by default, division up-casts to floating-point type:"
      ]
    },
    {
      "cell_type": "code",
      "execution_count": 3,
      "metadata": {
        "id": "QJbeCAWHJrca",
        "outputId": "82817739-fd9c-4ecd-9454-63fc6bd34b2b",
        "colab": {
          "base_uri": "https://localhost:8080/"
        }
      },
      "outputs": [
        {
          "output_type": "execute_result",
          "data": {
            "text/plain": [
              "2.5"
            ]
          },
          "metadata": {},
          "execution_count": 3
        }
      ],
      "source": [
        "5 / 2"
      ]
    },
    {
      "cell_type": "markdown",
      "metadata": {
        "id": "PAxYzUKlJrca"
      },
      "source": [
        "Note that this upcasting is a feature of Python 3; in Python 2, like in many statically-typed languages such as C, integer division truncates any decimal and always returns an integer:\n",
        "``` python\n",
        "# Python 2 behavior\n",
        ">>> 5 / 2\n",
        "2\n",
        "```\n",
        "To recover this behavior in Python 3, you can use the floor-division operator:"
      ]
    },
    {
      "cell_type": "code",
      "execution_count": 4,
      "metadata": {
        "id": "XsiMUdFiJrca",
        "outputId": "250b4057-eb6a-401c-d343-d7980df71938",
        "colab": {
          "base_uri": "https://localhost:8080/"
        }
      },
      "outputs": [
        {
          "output_type": "execute_result",
          "data": {
            "text/plain": [
              "2"
            ]
          },
          "metadata": {},
          "execution_count": 4
        }
      ],
      "source": [
        "5 // 2"
      ]
    },
    {
      "cell_type": "markdown",
      "metadata": {
        "id": "woQ8PQ9DJrcb"
      },
      "source": [
        "Finally, note that although Python *2.x* had both an ``int`` and ``long`` type, Python 3 combines the behavior of these two into a single ``int`` type."
      ]
    },
    {
      "cell_type": "markdown",
      "metadata": {
        "id": "bWW_FPQWJrcb"
      },
      "source": [
        "## Floating-Point Numbers\n",
        "The floating-point type can store fractional numbers.\n",
        "They can be defined either in standard decimal notation, or in exponential notation:"
      ]
    },
    {
      "cell_type": "code",
      "execution_count": 5,
      "metadata": {
        "id": "vmKPlvqZJrcb",
        "outputId": "c4260316-8988-457d-cd60-a2ad7c9da1f3",
        "colab": {
          "base_uri": "https://localhost:8080/"
        }
      },
      "outputs": [
        {
          "output_type": "stream",
          "name": "stdout",
          "text": [
            "True\n"
          ]
        }
      ],
      "source": [
        "x = 0.000005\n",
        "y = 5e-6\n",
        "print(x == y)"
      ]
    },
    {
      "cell_type": "code",
      "execution_count": 6,
      "metadata": {
        "id": "JSWMoDhWJrcb",
        "outputId": "bfa5547d-5364-44f1-e618-097fda016c3b",
        "colab": {
          "base_uri": "https://localhost:8080/"
        }
      },
      "outputs": [
        {
          "output_type": "stream",
          "name": "stdout",
          "text": [
            "True\n"
          ]
        }
      ],
      "source": [
        "x = 1400000.00\n",
        "y = 1.4e6\n",
        "print(x == y)"
      ]
    },
    {
      "cell_type": "markdown",
      "metadata": {
        "id": "rS7jXCrUJrcb"
      },
      "source": [
        "In the exponential notation, the ``e`` or ``E`` can be read \"...times ten to the...\",\n",
        "so that ``1.4e6`` is interpreted as $~1.4 \\times 10^6$."
      ]
    },
    {
      "cell_type": "markdown",
      "metadata": {
        "id": "dw1_HegvJrcb"
      },
      "source": [
        "An integer can be explicitly converted to a float with the ``float`` constructor:"
      ]
    },
    {
      "cell_type": "code",
      "execution_count": 7,
      "metadata": {
        "id": "DKdhlvCiJrcb",
        "outputId": "4c77d7b3-f260-4666-c6c5-17da9bea780b",
        "colab": {
          "base_uri": "https://localhost:8080/"
        }
      },
      "outputs": [
        {
          "output_type": "execute_result",
          "data": {
            "text/plain": [
              "1.0"
            ]
          },
          "metadata": {},
          "execution_count": 7
        }
      ],
      "source": [
        "float(1)"
      ]
    },
    {
      "cell_type": "markdown",
      "metadata": {
        "id": "qEFvXY_pJrcb"
      },
      "source": [
        "### Aside: Floating-point precision\n",
        "One thing to be aware of with floating point arithmetic is that its precision is limited, which can cause equality tests to be unstable. For example:"
      ]
    },
    {
      "cell_type": "code",
      "execution_count": 9,
      "metadata": {
        "id": "mqqtuLQLJrcc",
        "outputId": "aa1c3074-6272-4860-e662-fb93c460d71c",
        "colab": {
          "base_uri": "https://localhost:8080/"
        }
      },
      "outputs": [
        {
          "output_type": "execute_result",
          "data": {
            "text/plain": [
              "False"
            ]
          },
          "metadata": {},
          "execution_count": 9
        }
      ],
      "source": [
        "0.1 + 0.2 == 0.3"
      ]
    },
    {
      "cell_type": "markdown",
      "metadata": {
        "id": "-tyb_VoOJrcc"
      },
      "source": [
        "Why is this the case? It turns out that it is not a behavior unique to Python, but is due to the fixed-precision format of the binary floating-point storage used by most, if not all, scientific computing platforms.\n",
        "All programming languages using floating-point numbers store them in a fixed number of bits, and this leads some numbers to be represented only approximately.\n",
        "We can see this by printing the three values to high precision:"
      ]
    },
    {
      "cell_type": "code",
      "execution_count": 10,
      "metadata": {
        "id": "f0peAe72Jrcc",
        "outputId": "74719301-75d8-4b5a-ab97-e63664e79e01",
        "colab": {
          "base_uri": "https://localhost:8080/"
        }
      },
      "outputs": [
        {
          "output_type": "stream",
          "name": "stdout",
          "text": [
            "0.1 = 0.10000000000000001\n",
            "0.2 = 0.20000000000000001\n",
            "0.3 = 0.29999999999999999\n"
          ]
        }
      ],
      "source": [
        "print(\"0.1 = {0:.17f}\".format(0.1))\n",
        "print(\"0.2 = {0:.17f}\".format(0.2))\n",
        "print(\"0.3 = {0:.17f}\".format(0.3))"
      ]
    },
    {
      "cell_type": "markdown",
      "metadata": {
        "id": "ccQ-6IiKJrcc"
      },
      "source": [
        "We're accustomed to thinking of numbers in decimal (base-10) notation, so that each fraction must be expressed as a sum of powers of 10:\n",
        "$$\n",
        "1 /8 = 1\\cdot 10^{-1} + 2\\cdot 10^{-2} + 5\\cdot 10^{-3}\n",
        "$$\n",
        "In the familiar base-10 representation, we represent this in the familiar decimal expression: $0.125$.\n",
        "\n",
        "Computers usually store values in binary notation, so that each number is expressed as a sum of powers of 2:\n",
        "$$\n",
        "1/8 = 0\\cdot 2^{-1} + 0\\cdot 2^{-2} + 1\\cdot 2^{-3}\n",
        "$$\n",
        "In a base-2 representation, we can write this $0.001_2$, where the subscript 2 indicates binary notation.\n",
        "The value $0.125 = 0.001_2$ happens to be one number which both binary and decimal notation can represent in a finite number of digits.\n",
        "\n",
        "In the familiar base-10 representation of numbers, you are probably familiar with numbers that can't be expressed in a finite number of digits.\n",
        "For example, dividing $1$ by $3$ gives, in standard decimal notation:\n",
        "$$\n",
        "1 / 3 = 0.333333333\\cdots\n",
        "$$\n",
        "The 3s go on forever: that is, to truly represent this quotient, the number of required digits is infinite!\n",
        "\n",
        "Similarly, there are numbers for which binary representations require an infinite number of digits.\n",
        "For example:\n",
        "$$\n",
        "1 / 10 = 0.00011001100110011\\cdots_2\n",
        "$$\n",
        "Just as decimal notation requires an infinite number of digits to perfectly represent $1/3$, binary notation requires an infinite number of digits to represent $1/10$.\n",
        "Python internally truncates these representations at 52 bits beyond the first nonzero bit on most systems.\n",
        "\n",
        "This rounding error for floating-point values is a necessary evil of working with floating-point numbers.\n",
        "The best way to deal with it is to always keep in mind that floating-point arithmetic is approximate, and *never* rely on exact equality tests with floating-point values."
      ]
    },
    {
      "cell_type": "markdown",
      "metadata": {
        "id": "qF4TRHVbJrcc"
      },
      "source": [
        "## Complex Numbers\n",
        "Complex numbers are numbers with real and imaginary (floating-point) parts.\n",
        "We've seen integers and real numbers before; we can use these to construct a complex number:"
      ]
    },
    {
      "cell_type": "code",
      "execution_count": 11,
      "metadata": {
        "id": "o5Ns9q_AJrcc",
        "outputId": "71aa5d37-a46c-41c0-baba-b6fa72149ddc",
        "colab": {
          "base_uri": "https://localhost:8080/"
        }
      },
      "outputs": [
        {
          "output_type": "execute_result",
          "data": {
            "text/plain": [
              "(1+2j)"
            ]
          },
          "metadata": {},
          "execution_count": 11
        }
      ],
      "source": [
        "complex(1, 2)"
      ]
    },
    {
      "cell_type": "markdown",
      "metadata": {
        "id": "a4KbyqhMJrcc"
      },
      "source": [
        "Alternatively, we can use the \"``j``\" suffix in expressions to indicate the imaginary part:"
      ]
    },
    {
      "cell_type": "code",
      "execution_count": 12,
      "metadata": {
        "id": "EIxJEd7TJrcc",
        "outputId": "c7107735-32e8-4f4f-b225-56c302382ecf",
        "colab": {
          "base_uri": "https://localhost:8080/"
        }
      },
      "outputs": [
        {
          "output_type": "execute_result",
          "data": {
            "text/plain": [
              "(1+2j)"
            ]
          },
          "metadata": {},
          "execution_count": 12
        }
      ],
      "source": [
        "1 + 2j"
      ]
    },
    {
      "cell_type": "markdown",
      "metadata": {
        "id": "uqYzGa0VJrcd"
      },
      "source": [
        "Complex numbers have a variety of interesting attributes and methods, which we'll briefly demonstrate here:"
      ]
    },
    {
      "cell_type": "code",
      "execution_count": 13,
      "metadata": {
        "id": "MasWGDAVJrcd"
      },
      "outputs": [],
      "source": [
        "c = 3 + 4j"
      ]
    },
    {
      "cell_type": "code",
      "execution_count": 14,
      "metadata": {
        "id": "4nIkM3RmJrcd",
        "outputId": "571eeefb-f554-4b9b-800f-4c7182cbc2ce",
        "colab": {
          "base_uri": "https://localhost:8080/"
        }
      },
      "outputs": [
        {
          "output_type": "execute_result",
          "data": {
            "text/plain": [
              "3.0"
            ]
          },
          "metadata": {},
          "execution_count": 14
        }
      ],
      "source": [
        "c.real  # real part"
      ]
    },
    {
      "cell_type": "code",
      "execution_count": 15,
      "metadata": {
        "id": "dNQcNW8OJrcd",
        "outputId": "feb29e8c-dd60-46a2-cc15-1653b976803c",
        "colab": {
          "base_uri": "https://localhost:8080/"
        }
      },
      "outputs": [
        {
          "output_type": "execute_result",
          "data": {
            "text/plain": [
              "4.0"
            ]
          },
          "metadata": {},
          "execution_count": 15
        }
      ],
      "source": [
        "c.imag  # imaginary part"
      ]
    },
    {
      "cell_type": "code",
      "execution_count": 16,
      "metadata": {
        "id": "6kVuF9B1Jrcd",
        "outputId": "55dd006f-fe8b-4972-a69b-1e503d7e85b9",
        "colab": {
          "base_uri": "https://localhost:8080/"
        }
      },
      "outputs": [
        {
          "output_type": "execute_result",
          "data": {
            "text/plain": [
              "(3-4j)"
            ]
          },
          "metadata": {},
          "execution_count": 16
        }
      ],
      "source": [
        "c.conjugate()  # complex conjugate"
      ]
    },
    {
      "cell_type": "code",
      "execution_count": 17,
      "metadata": {
        "id": "UcTe1L7GJrcd",
        "outputId": "c0d20747-8307-4635-c195-664259aec5c6",
        "colab": {
          "base_uri": "https://localhost:8080/"
        }
      },
      "outputs": [
        {
          "output_type": "execute_result",
          "data": {
            "text/plain": [
              "5.0"
            ]
          },
          "metadata": {},
          "execution_count": 17
        }
      ],
      "source": [
        "abs(c)  # magnitude, i.e. sqrt(c.real ** 2 + c.imag ** 2)"
      ]
    },
    {
      "cell_type": "markdown",
      "metadata": {
        "id": "2Y8ptNMWJrcd"
      },
      "source": [
        "## String Type\n",
        "Strings in Python are created with single or double quotes:"
      ]
    },
    {
      "cell_type": "code",
      "execution_count": 18,
      "metadata": {
        "id": "gppbZW7YJrcd"
      },
      "outputs": [],
      "source": [
        "message = \"what do you like?\"\n",
        "response = 'spam'"
      ]
    },
    {
      "cell_type": "markdown",
      "metadata": {
        "id": "P38zvGx0Jrcd"
      },
      "source": [
        "Python has many extremely useful string functions and methods; here are a few of them:"
      ]
    },
    {
      "cell_type": "code",
      "execution_count": 19,
      "metadata": {
        "id": "TIVj4fylJrcd",
        "outputId": "00245266-5c3b-469a-b361-8ff386a207b1",
        "colab": {
          "base_uri": "https://localhost:8080/"
        }
      },
      "outputs": [
        {
          "output_type": "execute_result",
          "data": {
            "text/plain": [
              "4"
            ]
          },
          "metadata": {},
          "execution_count": 19
        }
      ],
      "source": [
        "# length of string\n",
        "len(response)"
      ]
    },
    {
      "cell_type": "code",
      "execution_count": 20,
      "metadata": {
        "id": "_4KTNSGQJrce",
        "outputId": "ecefe839-3917-4e1f-cbc0-524c72733226",
        "colab": {
          "base_uri": "https://localhost:8080/",
          "height": 35
        }
      },
      "outputs": [
        {
          "output_type": "execute_result",
          "data": {
            "text/plain": [
              "'SPAM'"
            ],
            "application/vnd.google.colaboratory.intrinsic+json": {
              "type": "string"
            }
          },
          "metadata": {},
          "execution_count": 20
        }
      ],
      "source": [
        "# Make upper-case. See also str.lower()\n",
        "response.upper()"
      ]
    },
    {
      "cell_type": "code",
      "execution_count": 21,
      "metadata": {
        "id": "tPPqv2EQJrch",
        "outputId": "914ed69b-7a08-420f-d422-95b2c4b4899a",
        "colab": {
          "base_uri": "https://localhost:8080/",
          "height": 35
        }
      },
      "outputs": [
        {
          "output_type": "execute_result",
          "data": {
            "text/plain": [
              "'What do you like?'"
            ],
            "application/vnd.google.colaboratory.intrinsic+json": {
              "type": "string"
            }
          },
          "metadata": {},
          "execution_count": 21
        }
      ],
      "source": [
        "# Capitalize. See also str.title()\n",
        "message.capitalize()"
      ]
    },
    {
      "cell_type": "code",
      "execution_count": 22,
      "metadata": {
        "id": "DsMnomAsJrch",
        "outputId": "d44b995f-6f3a-43d9-ec80-dfccda65538c",
        "colab": {
          "base_uri": "https://localhost:8080/",
          "height": 35
        }
      },
      "outputs": [
        {
          "output_type": "execute_result",
          "data": {
            "text/plain": [
              "'what do you like?spam'"
            ],
            "application/vnd.google.colaboratory.intrinsic+json": {
              "type": "string"
            }
          },
          "metadata": {},
          "execution_count": 22
        }
      ],
      "source": [
        "# concatenation with +\n",
        "message + response"
      ]
    },
    {
      "cell_type": "code",
      "execution_count": 23,
      "metadata": {
        "id": "R9ogLK1-Jrci",
        "outputId": "361ccf57-47e5-486b-abc9-5d36f8422fb1",
        "colab": {
          "base_uri": "https://localhost:8080/",
          "height": 35
        }
      },
      "outputs": [
        {
          "output_type": "execute_result",
          "data": {
            "text/plain": [
              "'spamspamspamspamspam'"
            ],
            "application/vnd.google.colaboratory.intrinsic+json": {
              "type": "string"
            }
          },
          "metadata": {},
          "execution_count": 23
        }
      ],
      "source": [
        "# multiplication is multiple concatenation\n",
        "5 * response"
      ]
    },
    {
      "cell_type": "code",
      "execution_count": 24,
      "metadata": {
        "id": "9LeHJRfaJrci",
        "outputId": "62c07492-43c1-4610-cf6e-c2fb91269bf2",
        "colab": {
          "base_uri": "https://localhost:8080/",
          "height": 35
        }
      },
      "outputs": [
        {
          "output_type": "execute_result",
          "data": {
            "text/plain": [
              "'w'"
            ],
            "application/vnd.google.colaboratory.intrinsic+json": {
              "type": "string"
            }
          },
          "metadata": {},
          "execution_count": 24
        }
      ],
      "source": [
        "# Access individual characters (zero-based indexing)\n",
        "message[0]"
      ]
    },
    {
      "cell_type": "markdown",
      "metadata": {
        "id": "ZmZ1081dJrci"
      },
      "source": [
        "For more discussion of indexing in Python, see [\"Lists\"](06-Built-in-Data-Structures.ipynb#Lists)."
      ]
    },
    {
      "cell_type": "markdown",
      "metadata": {
        "id": "jCgItZW1Jrci"
      },
      "source": [
        "## None Type\n",
        "Python includes a special type, the ``NoneType``, which has only a single possible value: ``None``. For example:"
      ]
    },
    {
      "cell_type": "code",
      "execution_count": 25,
      "metadata": {
        "id": "ucWpq6DmJrci",
        "outputId": "99631761-7782-4c54-8033-b1892b06ccbc",
        "colab": {
          "base_uri": "https://localhost:8080/"
        }
      },
      "outputs": [
        {
          "output_type": "execute_result",
          "data": {
            "text/plain": [
              "NoneType"
            ]
          },
          "metadata": {},
          "execution_count": 25
        }
      ],
      "source": [
        "type(None)"
      ]
    },
    {
      "cell_type": "markdown",
      "metadata": {
        "id": "0f4EhtxEJrci"
      },
      "source": [
        "You'll see ``None`` used in many places, but perhaps most commonly it is used as the default return value of a function.\n",
        "For example, the ``print()`` function in Python 3 does not return anything, but we can still catch its value:"
      ]
    },
    {
      "cell_type": "code",
      "execution_count": 26,
      "metadata": {
        "id": "hUKznzR3Jrci",
        "outputId": "f0ff0555-4607-438a-9596-9ada05129882",
        "colab": {
          "base_uri": "https://localhost:8080/"
        }
      },
      "outputs": [
        {
          "output_type": "stream",
          "name": "stdout",
          "text": [
            "abc\n"
          ]
        }
      ],
      "source": [
        "return_value = print('abc')"
      ]
    },
    {
      "cell_type": "code",
      "execution_count": 27,
      "metadata": {
        "id": "389K1NSTJrci",
        "outputId": "5df0f5b3-a785-4b8c-e788-68c4c4cac8df",
        "colab": {
          "base_uri": "https://localhost:8080/"
        }
      },
      "outputs": [
        {
          "output_type": "stream",
          "name": "stdout",
          "text": [
            "None\n"
          ]
        }
      ],
      "source": [
        "print(return_value)"
      ]
    },
    {
      "cell_type": "markdown",
      "metadata": {
        "id": "ynQXIlfyJrci"
      },
      "source": [
        "Likewise, any function in Python with no return value is, in reality, returning ``None``."
      ]
    },
    {
      "cell_type": "markdown",
      "metadata": {
        "id": "6j8WUXhMJrci"
      },
      "source": [
        "## Boolean Type\n",
        "The Boolean type is a simple type with two possible values: ``True`` and ``False``, and is returned by comparison operators discussed previously:"
      ]
    },
    {
      "cell_type": "code",
      "execution_count": 28,
      "metadata": {
        "id": "6HHJXGyvJrcj",
        "outputId": "23e9b66f-1728-49aa-8efb-06e694246d77",
        "colab": {
          "base_uri": "https://localhost:8080/"
        }
      },
      "outputs": [
        {
          "output_type": "execute_result",
          "data": {
            "text/plain": [
              "True"
            ]
          },
          "metadata": {},
          "execution_count": 28
        }
      ],
      "source": [
        "result = (4 < 5)\n",
        "result"
      ]
    },
    {
      "cell_type": "code",
      "execution_count": 29,
      "metadata": {
        "id": "C43Wv-cbJrcj",
        "outputId": "83f0d87e-8cbb-4ec0-96e3-6b8d8cab4897",
        "colab": {
          "base_uri": "https://localhost:8080/"
        }
      },
      "outputs": [
        {
          "output_type": "execute_result",
          "data": {
            "text/plain": [
              "bool"
            ]
          },
          "metadata": {},
          "execution_count": 29
        }
      ],
      "source": [
        "type(result)"
      ]
    },
    {
      "cell_type": "markdown",
      "metadata": {
        "id": "RxKjhifpJrcj"
      },
      "source": [
        "Keep in mind that the Boolean values are case-sensitive: unlike some other languages, ``True`` and ``False`` must be capitalized!"
      ]
    },
    {
      "cell_type": "code",
      "execution_count": 30,
      "metadata": {
        "id": "Gscn1_zPJrcj",
        "outputId": "0c066bee-90bf-44da-8d59-371111e10489",
        "colab": {
          "base_uri": "https://localhost:8080/"
        }
      },
      "outputs": [
        {
          "output_type": "stream",
          "name": "stdout",
          "text": [
            "True False\n"
          ]
        }
      ],
      "source": [
        "print(True, False)"
      ]
    },
    {
      "cell_type": "markdown",
      "metadata": {
        "id": "1lCpBkQaJrcj"
      },
      "source": [
        "Booleans can also be constructed using the ``bool()`` object constructor: values of any other type can be converted to Boolean via predictable rules.\n",
        "For example, any numeric type is False if equal to zero, and True otherwise:"
      ]
    },
    {
      "cell_type": "code",
      "execution_count": 31,
      "metadata": {
        "id": "2TAyRE1IJrcj",
        "outputId": "9fffdddc-962a-4e8a-ba94-ef37888831b9",
        "colab": {
          "base_uri": "https://localhost:8080/"
        }
      },
      "outputs": [
        {
          "output_type": "execute_result",
          "data": {
            "text/plain": [
              "True"
            ]
          },
          "metadata": {},
          "execution_count": 31
        }
      ],
      "source": [
        "bool(2014)"
      ]
    },
    {
      "cell_type": "code",
      "execution_count": 32,
      "metadata": {
        "id": "jFnTBDpVJrcj",
        "outputId": "6d4f687e-be2f-4082-ad69-0ec358b75773",
        "colab": {
          "base_uri": "https://localhost:8080/"
        }
      },
      "outputs": [
        {
          "output_type": "execute_result",
          "data": {
            "text/plain": [
              "False"
            ]
          },
          "metadata": {},
          "execution_count": 32
        }
      ],
      "source": [
        "bool(0)"
      ]
    },
    {
      "cell_type": "code",
      "execution_count": 33,
      "metadata": {
        "id": "Le3YR7vxJrcj",
        "outputId": "d41a6861-f2a6-4b6a-9882-fb1983f0a11d",
        "colab": {
          "base_uri": "https://localhost:8080/"
        }
      },
      "outputs": [
        {
          "output_type": "execute_result",
          "data": {
            "text/plain": [
              "True"
            ]
          },
          "metadata": {},
          "execution_count": 33
        }
      ],
      "source": [
        "bool(3.1415)"
      ]
    },
    {
      "cell_type": "markdown",
      "metadata": {
        "id": "2zY3D-0nJrcj"
      },
      "source": [
        "The Boolean conversion of ``None`` is always False:"
      ]
    },
    {
      "cell_type": "code",
      "execution_count": 34,
      "metadata": {
        "id": "PVq-V0qfJrcj",
        "outputId": "5a4f6b1a-ba24-4719-86e6-fabe730e27d4",
        "colab": {
          "base_uri": "https://localhost:8080/"
        }
      },
      "outputs": [
        {
          "output_type": "execute_result",
          "data": {
            "text/plain": [
              "False"
            ]
          },
          "metadata": {},
          "execution_count": 34
        }
      ],
      "source": [
        "bool(None)"
      ]
    },
    {
      "cell_type": "markdown",
      "metadata": {
        "id": "wmjlHqvOJrcj"
      },
      "source": [
        "For strings, ``bool(s)`` is False for empty strings and True otherwise:"
      ]
    },
    {
      "cell_type": "code",
      "execution_count": 35,
      "metadata": {
        "id": "VpeNe0rtJrck",
        "outputId": "ad832b1b-d612-4001-a699-123218496fbb",
        "colab": {
          "base_uri": "https://localhost:8080/"
        }
      },
      "outputs": [
        {
          "output_type": "execute_result",
          "data": {
            "text/plain": [
              "False"
            ]
          },
          "metadata": {},
          "execution_count": 35
        }
      ],
      "source": [
        "bool(\"\")"
      ]
    },
    {
      "cell_type": "code",
      "execution_count": 36,
      "metadata": {
        "id": "h7ZqvkIyJrck",
        "outputId": "fb2b47bb-beac-425f-d74d-68b0d50d331d",
        "colab": {
          "base_uri": "https://localhost:8080/"
        }
      },
      "outputs": [
        {
          "output_type": "execute_result",
          "data": {
            "text/plain": [
              "True"
            ]
          },
          "metadata": {},
          "execution_count": 36
        }
      ],
      "source": [
        "bool(\"abc\")"
      ]
    },
    {
      "cell_type": "markdown",
      "metadata": {
        "id": "OCbzS4HjJrck"
      },
      "source": [
        "For sequences, which we'll see in the next section, the Boolean representation is False for empty sequences and True for any other sequences"
      ]
    },
    {
      "cell_type": "code",
      "execution_count": 37,
      "metadata": {
        "id": "_5JRxFriJrck",
        "outputId": "18b484fc-be44-411b-8f36-894da23ec891",
        "colab": {
          "base_uri": "https://localhost:8080/"
        }
      },
      "outputs": [
        {
          "output_type": "execute_result",
          "data": {
            "text/plain": [
              "True"
            ]
          },
          "metadata": {},
          "execution_count": 37
        }
      ],
      "source": [
        "bool([1, 2, 3])"
      ]
    },
    {
      "cell_type": "code",
      "execution_count": 38,
      "metadata": {
        "id": "OSU-77maJrck",
        "outputId": "d9f2b7f5-fced-44d8-d28a-eb6d6a1cf2b0",
        "colab": {
          "base_uri": "https://localhost:8080/"
        }
      },
      "outputs": [
        {
          "output_type": "execute_result",
          "data": {
            "text/plain": [
              "False"
            ]
          },
          "metadata": {},
          "execution_count": 38
        }
      ],
      "source": [
        "bool([])"
      ]
    },
    {
      "cell_type": "markdown",
      "metadata": {
        "id": "4o2DHCZkJrck"
      },
      "source": [
        "<!--NAVIGATION-->\n",
        "< [Basic Python Semantics: Operators](01_04-Semantics-Operators.ipynb) | [Contents](Index.ipynb) | [Built-In Data Structures](01_06-Built-in-Data-Structures.ipynb) >"
      ]
    }
  ],
  "metadata": {
    "anaconda-cloud": {},
    "kernelspec": {
      "display_name": "Python 3",
      "language": "python",
      "name": "python3"
    },
    "language_info": {
      "codemirror_mode": {
        "name": "ipython",
        "version": 3
      },
      "file_extension": ".py",
      "mimetype": "text/x-python",
      "name": "python",
      "nbconvert_exporter": "python",
      "pygments_lexer": "ipython3",
      "version": "3.6.10"
    },
    "colab": {
      "provenance": []
    }
  },
  "nbformat": 4,
  "nbformat_minor": 0
}