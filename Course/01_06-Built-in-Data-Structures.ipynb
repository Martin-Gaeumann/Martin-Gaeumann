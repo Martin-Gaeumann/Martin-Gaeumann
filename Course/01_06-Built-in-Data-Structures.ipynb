{
  "cells": [
    {
      "cell_type": "markdown",
      "metadata": {
        "id": "Of7V2X1GMvlX"
      },
      "source": [
        "<!--BOOK_INFORMATION-->\n",
        "<img align=\"left\" style=\"padding-right:10px;\" src=\"https://github.com/KingaS03/Introduction-to-Python/blob/master/Course/fig/cover-small.jpg?raw=1\">\n",
        "\n",
        "*This notebook contains an excerpt from the [Whirlwind Tour of Python](http://www.oreilly.com/programming/free/a-whirlwind-tour-of-python.csp) by Jake VanderPlas; the content is available [on GitHub](https://github.com/jakevdp/WhirlwindTourOfPython).*\n",
        "\n",
        "*The text and code are released under the [CC0](https://github.com/jakevdp/WhirlwindTourOfPython/blob/master/LICENSE) license; see also the companion project, the [Python Data Science Handbook](https://github.com/jakevdp/PythonDataScienceHandbook).*\n"
      ]
    },
    {
      "cell_type": "markdown",
      "metadata": {
        "id": "HTJcs-glMvlY"
      },
      "source": [
        "<!--NAVIGATION-->\n",
        "< [Built-In Types: Simple Values](01_05-Built-in-Scalar-Types.ipynb) | [Contents](Index.ipynb) | [Control Flow](01_07-Control-Flow-Statements.ipynb) >"
      ]
    },
    {
      "cell_type": "markdown",
      "metadata": {
        "id": "yZQu36cCMvlZ"
      },
      "source": [
        "# Built-In Data Structures"
      ]
    },
    {
      "cell_type": "markdown",
      "metadata": {
        "id": "UBr5fx7KMvlZ"
      },
      "source": [
        "We have seen Python's simple types: ``int``, ``float``, ``complex``, ``bool``, ``str``, and so on.\n",
        "Python also has several built-in compound types, which act as containers for other types.\n",
        "These compound types are:\n",
        "\n",
        "| Type Name | Example                   |Description                            |\n",
        "|-----------|---------------------------|---------------------------------------|\n",
        "| ``list``  | ``[1, 2, 3]``             | Ordered collection                    |\n",
        "| ``tuple`` | ``(1, 2, 3)``             | Immutable ordered collection          |\n",
        "| ``dict``  | ``{'a':1, 'b':2, 'c':3}`` | Unordered (key,value) mapping         |\n",
        "| ``set``   | ``{1, 2, 3}``             | Unordered collection of unique values |\n",
        "\n",
        "As you can see, round, square, and curly brackets have distinct meanings when it comes to the type of collection produced.\n",
        "We'll take a quick tour of these data structures here."
      ]
    },
    {
      "cell_type": "markdown",
      "metadata": {
        "id": "SZweOdtYMvla"
      },
      "source": [
        "## Lists\n",
        "Lists are the basic *ordered* and *mutable* data collection type in Python.\n",
        "They can be defined with comma-separated values between square brackets; for example, here is a list of the first several prime numbers:"
      ]
    },
    {
      "cell_type": "code",
      "execution_count": 1,
      "metadata": {
        "id": "fvyrOsnQMvla"
      },
      "outputs": [],
      "source": [
        "L = [2, 3, 5, 7]"
      ]
    },
    {
      "cell_type": "markdown",
      "metadata": {
        "id": "6ZrLYMN1Mvlb"
      },
      "source": [
        "Lists have a number of useful properties and methods available to them.\n",
        "Here we'll take a quick look at some of the more common and useful ones:"
      ]
    },
    {
      "cell_type": "code",
      "execution_count": 2,
      "metadata": {
        "id": "Dlt_Ix-NMvlb",
        "outputId": "22e405dc-d9f0-4e12-a864-9b5eab376581",
        "colab": {
          "base_uri": "https://localhost:8080/"
        }
      },
      "outputs": [
        {
          "output_type": "execute_result",
          "data": {
            "text/plain": [
              "4"
            ]
          },
          "metadata": {},
          "execution_count": 2
        }
      ],
      "source": [
        "# Length of a list\n",
        "len(L)"
      ]
    },
    {
      "cell_type": "code",
      "execution_count": 3,
      "metadata": {
        "id": "wJjNPNYlMvlb",
        "outputId": "940ddbbb-fc17-4de5-a3ce-142c643ee365",
        "colab": {
          "base_uri": "https://localhost:8080/"
        }
      },
      "outputs": [
        {
          "output_type": "execute_result",
          "data": {
            "text/plain": [
              "[2, 3, 5, 7, 11]"
            ]
          },
          "metadata": {},
          "execution_count": 3
        }
      ],
      "source": [
        "# Append a value to the end\n",
        "L.append(11)\n",
        "L"
      ]
    },
    {
      "cell_type": "code",
      "execution_count": 4,
      "metadata": {
        "id": "PnZ8HmbMMvlc",
        "outputId": "17c0840d-017d-4fbb-c884-e997822fa1bd",
        "colab": {
          "base_uri": "https://localhost:8080/"
        }
      },
      "outputs": [
        {
          "output_type": "execute_result",
          "data": {
            "text/plain": [
              "[2, 3, 5, 7, 11, 13, 17, 19]"
            ]
          },
          "metadata": {},
          "execution_count": 4
        }
      ],
      "source": [
        "# Addition concatenates lists\n",
        "L + [13, 17, 19]"
      ]
    },
    {
      "cell_type": "code",
      "execution_count": 5,
      "metadata": {
        "id": "DWiMEnZJMvlc",
        "outputId": "78653254-a66d-45bf-f9d4-2da8e373ed2a",
        "colab": {
          "base_uri": "https://localhost:8080/"
        }
      },
      "outputs": [
        {
          "output_type": "stream",
          "name": "stdout",
          "text": [
            "Help on built-in function sort:\n",
            "\n",
            "sort(*, key=None, reverse=False) method of builtins.list instance\n",
            "    Sort the list in ascending order and return None.\n",
            "    \n",
            "    The sort is in-place (i.e. the list itself is modified) and stable (i.e. the\n",
            "    order of two equal elements is maintained).\n",
            "    \n",
            "    If a key function is given, apply it once to each list item and sort them,\n",
            "    ascending or descending, according to their function values.\n",
            "    \n",
            "    The reverse flag can be set to sort in descending order.\n",
            "\n"
          ]
        }
      ],
      "source": [
        "# sort() method sorts in-place\n",
        "L = [2, 5, 1, 6, 3, 4]\n",
        "help(L.sort)"
      ]
    },
    {
      "cell_type": "markdown",
      "metadata": {
        "id": "lsRdpWhrMvlc"
      },
      "source": [
        "In addition, there are many more built-in list methods; they are well-covered in Python's [online documentation](https://docs.python.org/3/tutorial/datastructures.html).\n",
        "\n",
        "While we've been demonstrating lists containing values of a single type, one of the powerful features of Python's compound objects is that they can contain objects of *any* type, or even a mix of types. For example:"
      ]
    },
    {
      "cell_type": "code",
      "execution_count": 6,
      "metadata": {
        "id": "MW9g0GhkMvlc"
      },
      "outputs": [],
      "source": [
        "L = [1, 'two', 3.14, [0, 3, 5]]"
      ]
    },
    {
      "cell_type": "markdown",
      "metadata": {
        "id": "bdtdvKk3Mvlc"
      },
      "source": [
        "This flexibility is a consequence of Python's dynamic type system.\n",
        "Creating such a mixed sequence in a statically-typed language like C can be much more of a headache!\n",
        "We see that lists can even contain other lists as elements.\n",
        "Such type flexibility is an essential piece of what makes Python code relatively quick and easy to write.\n",
        "\n",
        "So far we've been considering manipulations of lists as a whole; another essential piece is the accessing of individual elements.\n",
        "This is done in Python via *indexing* and *slicing*, which we'll explore next."
      ]
    },
    {
      "cell_type": "markdown",
      "metadata": {
        "id": "-AEYG8jnMvlc"
      },
      "source": [
        "### List indexing and slicing\n",
        "Python provides access to elements in compound types through *indexing* for single elements, and *slicing* for multiple elements.\n",
        "As we'll see, both are indicated by a square-bracket syntax.\n",
        "Suppose we return to our list of the first several primes:"
      ]
    },
    {
      "cell_type": "code",
      "execution_count": 7,
      "metadata": {
        "id": "DC3_ZOZ9Mvld"
      },
      "outputs": [],
      "source": [
        "L = [2, 3, 5, 7, 11]"
      ]
    },
    {
      "cell_type": "markdown",
      "metadata": {
        "id": "j3SSQ2K6Mvld"
      },
      "source": [
        "Python uses *zero-based* indexing, so we can access the first and second element in using the following syntax:"
      ]
    },
    {
      "cell_type": "code",
      "execution_count": 8,
      "metadata": {
        "id": "a65xxum-Mvld",
        "outputId": "97bfb413-d392-438d-d8df-457e88c92abd",
        "colab": {
          "base_uri": "https://localhost:8080/"
        }
      },
      "outputs": [
        {
          "output_type": "execute_result",
          "data": {
            "text/plain": [
              "2"
            ]
          },
          "metadata": {},
          "execution_count": 8
        }
      ],
      "source": [
        "L[0]"
      ]
    },
    {
      "cell_type": "code",
      "execution_count": 9,
      "metadata": {
        "id": "f4-8riV1Mvld",
        "outputId": "fed9adc2-e27e-48d7-cbc1-747f62411f3a",
        "colab": {
          "base_uri": "https://localhost:8080/"
        }
      },
      "outputs": [
        {
          "output_type": "execute_result",
          "data": {
            "text/plain": [
              "3"
            ]
          },
          "metadata": {},
          "execution_count": 9
        }
      ],
      "source": [
        "L[1]"
      ]
    },
    {
      "cell_type": "markdown",
      "metadata": {
        "id": "QMD6RGM1Mvld"
      },
      "source": [
        "Elements at the end of the list can be accessed with negative numbers, starting from -1:"
      ]
    },
    {
      "cell_type": "code",
      "execution_count": 10,
      "metadata": {
        "id": "4TI8skpBMvld",
        "outputId": "d0086083-0fdf-478b-9666-c6aea175c2b2",
        "colab": {
          "base_uri": "https://localhost:8080/"
        }
      },
      "outputs": [
        {
          "output_type": "execute_result",
          "data": {
            "text/plain": [
              "11"
            ]
          },
          "metadata": {},
          "execution_count": 10
        }
      ],
      "source": [
        "L[-1]"
      ]
    },
    {
      "cell_type": "code",
      "execution_count": 11,
      "metadata": {
        "id": "yLJzpVKcMvld",
        "outputId": "429c1bf3-a425-4290-bc7c-2035a9c0455e",
        "colab": {
          "base_uri": "https://localhost:8080/"
        }
      },
      "outputs": [
        {
          "output_type": "execute_result",
          "data": {
            "text/plain": [
              "7"
            ]
          },
          "metadata": {},
          "execution_count": 11
        }
      ],
      "source": [
        "L[-2]"
      ]
    },
    {
      "cell_type": "markdown",
      "metadata": {
        "id": "p94ZtrCBMvld"
      },
      "source": [
        "You can visualize this indexing scheme this way:"
      ]
    },
    {
      "cell_type": "markdown",
      "metadata": {
        "id": "E_Mcm-0MMvld"
      },
      "source": [
        "![List Indexing Figure](https://github.com/KingaS03/Introduction-to-Python/blob/master/Course/fig/list-indexing.png?raw=1)"
      ]
    },
    {
      "cell_type": "markdown",
      "metadata": {
        "id": "omuAhasGMvle"
      },
      "source": [
        "Here values in the list are represented by large numbers in the squares; list indices are represented by small numbers above and below.\n",
        "In this case, ``L[2]`` returns ``5``, because that is the next value at index ``2``."
      ]
    },
    {
      "cell_type": "markdown",
      "metadata": {
        "id": "kF4mgqMLMvle"
      },
      "source": [
        "Where *indexing* is a means of fetching a single value from the list, *slicing* is a means of accessing multiple values in sub-lists.\n",
        "It uses a colon to indicate the start point (inclusive) and end point (non-inclusive) of the sub-array.\n",
        "For example, to get the first three elements of the list, we can write:"
      ]
    },
    {
      "cell_type": "code",
      "execution_count": 12,
      "metadata": {
        "id": "zcaUlWEsMvle",
        "outputId": "c3a7f948-a260-4409-d328-a5a93a6bd07d",
        "colab": {
          "base_uri": "https://localhost:8080/"
        }
      },
      "outputs": [
        {
          "output_type": "execute_result",
          "data": {
            "text/plain": [
              "[2, 3, 5]"
            ]
          },
          "metadata": {},
          "execution_count": 12
        }
      ],
      "source": [
        "L[0:3]"
      ]
    },
    {
      "cell_type": "markdown",
      "metadata": {
        "id": "SDAe8IYVMvle"
      },
      "source": [
        "Notice where ``0`` and ``3`` lie in the preceding diagram, and how the slice takes just the values between the indices.\n",
        "If we leave out the first index, ``0`` is assumed, so we can equivalently write:"
      ]
    },
    {
      "cell_type": "code",
      "execution_count": 13,
      "metadata": {
        "id": "G_oqfTvpMvle",
        "outputId": "17193171-4a83-43dc-de8e-1cae3a825e45",
        "colab": {
          "base_uri": "https://localhost:8080/"
        }
      },
      "outputs": [
        {
          "output_type": "execute_result",
          "data": {
            "text/plain": [
              "[2, 3, 5]"
            ]
          },
          "metadata": {},
          "execution_count": 13
        }
      ],
      "source": [
        "L[:3]"
      ]
    },
    {
      "cell_type": "markdown",
      "metadata": {
        "id": "X41inZC_Mvle"
      },
      "source": [
        "Similarly, if we leave out the last index, it defaults to the length of the list.\n",
        "Thus, the last three elements can be accessed as follows:"
      ]
    },
    {
      "cell_type": "code",
      "execution_count": 14,
      "metadata": {
        "id": "KWjmsa7TMvle",
        "outputId": "eee31728-b4e3-4ffd-d498-8d72014e284a",
        "colab": {
          "base_uri": "https://localhost:8080/"
        }
      },
      "outputs": [
        {
          "output_type": "execute_result",
          "data": {
            "text/plain": [
              "[5, 7, 11]"
            ]
          },
          "metadata": {},
          "execution_count": 14
        }
      ],
      "source": [
        "L[-3:]"
      ]
    },
    {
      "cell_type": "markdown",
      "metadata": {
        "id": "VWyDDCqCMvle"
      },
      "source": [
        "Finally, it is possible to specify a third integer that represents the step size; for example, to select every second element of the list, we can write:"
      ]
    },
    {
      "cell_type": "code",
      "execution_count": 15,
      "metadata": {
        "id": "KtR5fVXWMvle",
        "outputId": "a37df415-5e28-48e3-fa1f-10687fa099d0",
        "colab": {
          "base_uri": "https://localhost:8080/"
        }
      },
      "outputs": [
        {
          "output_type": "execute_result",
          "data": {
            "text/plain": [
              "[2, 5, 11]"
            ]
          },
          "metadata": {},
          "execution_count": 15
        }
      ],
      "source": [
        "L[::2]  # equivalent to L[0:len(L):2]"
      ]
    },
    {
      "cell_type": "markdown",
      "metadata": {
        "id": "nXmEY6r7Mvle"
      },
      "source": [
        "A particularly useful version of this is to specify a negative step, which will reverse the array:"
      ]
    },
    {
      "cell_type": "code",
      "execution_count": 16,
      "metadata": {
        "id": "Pz17cYU0Mvlf",
        "outputId": "250e5746-3b23-4405-b5ad-e0a95008779f",
        "colab": {
          "base_uri": "https://localhost:8080/"
        }
      },
      "outputs": [
        {
          "output_type": "execute_result",
          "data": {
            "text/plain": [
              "[11, 7, 5, 3, 2]"
            ]
          },
          "metadata": {},
          "execution_count": 16
        }
      ],
      "source": [
        "L[::-1]"
      ]
    },
    {
      "cell_type": "markdown",
      "metadata": {
        "id": "TPyEoLmxMvlf"
      },
      "source": [
        "Both indexing and slicing can be used to set elements as well as access them.\n",
        "The syntax is as you would expect:"
      ]
    },
    {
      "cell_type": "code",
      "execution_count": 17,
      "metadata": {
        "id": "pSjjvarIMvlf",
        "outputId": "6c2cd2b2-3a2e-48a6-d4ec-a5fa6c82dc2b",
        "colab": {
          "base_uri": "https://localhost:8080/"
        }
      },
      "outputs": [
        {
          "output_type": "stream",
          "name": "stdout",
          "text": [
            "[100, 3, 5, 7, 11]\n"
          ]
        }
      ],
      "source": [
        "L[0] = 100\n",
        "print(L)"
      ]
    },
    {
      "cell_type": "code",
      "execution_count": 18,
      "metadata": {
        "id": "K8BQZvA_Mvlf",
        "outputId": "134af19e-e480-42b1-8ff0-6ff06ce7171f",
        "colab": {
          "base_uri": "https://localhost:8080/"
        }
      },
      "outputs": [
        {
          "output_type": "stream",
          "name": "stdout",
          "text": [
            "[100, 55, 56, 7, 11]\n"
          ]
        }
      ],
      "source": [
        "L[1:3] = [55, 56]\n",
        "print(L)"
      ]
    },
    {
      "cell_type": "markdown",
      "metadata": {
        "id": "Ytp6Wpy5Mvlf"
      },
      "source": [
        "A very similar slicing syntax is also used in many data science-oriented packages, including NumPy and Pandas (mentioned in the introduction).\n",
        "\n",
        "Now that we have seen Python lists and how to access elements in ordered compound types, let's take a look at the other three standard compound data types mentioned earlier."
      ]
    },
    {
      "cell_type": "markdown",
      "metadata": {
        "id": "73cmzTfFMvlj"
      },
      "source": [
        "### Exercise\n",
        "\n",
        "* Determine the maximal element of a list of real numbers.\n",
        "* Determine the maximal element of a list and the position where is this maximum reached."
      ]
    },
    {
      "cell_type": "code",
      "source": [
        "L = [1,2,3,4,5,6,7,8,9]\n",
        "L.sort(reverse=True)\n",
        "print(L[0])"
      ],
      "metadata": {
        "id": "X-wpkn0bSmMB",
        "outputId": "cab50d7f-c9b0-4242-d07a-6a093bf5c0e6",
        "colab": {
          "base_uri": "https://localhost:8080/"
        }
      },
      "execution_count": 23,
      "outputs": [
        {
          "output_type": "stream",
          "name": "stdout",
          "text": [
            "9\n"
          ]
        }
      ]
    },
    {
      "cell_type": "markdown",
      "metadata": {
        "id": "sPbdep7kMvlj"
      },
      "source": [
        "## Tuples\n",
        "Tuples are in many ways similar to lists, but they are defined with parentheses rather than square brackets:"
      ]
    },
    {
      "cell_type": "code",
      "execution_count": 24,
      "metadata": {
        "id": "56hDrxezMvlj"
      },
      "outputs": [],
      "source": [
        "t = (1, 2, 3)"
      ]
    },
    {
      "cell_type": "markdown",
      "metadata": {
        "id": "zR1l2_qGMvlj"
      },
      "source": [
        "They can also be defined without any brackets at all:"
      ]
    },
    {
      "cell_type": "code",
      "execution_count": 25,
      "metadata": {
        "id": "92G7jnLlMvlj",
        "outputId": "9f29200c-6e5c-42eb-f3b5-2c6dfb687a5f",
        "colab": {
          "base_uri": "https://localhost:8080/"
        }
      },
      "outputs": [
        {
          "output_type": "stream",
          "name": "stdout",
          "text": [
            "(1, 2, 3)\n"
          ]
        }
      ],
      "source": [
        "t = 1, 2, 3\n",
        "print(t)"
      ]
    },
    {
      "cell_type": "markdown",
      "metadata": {
        "id": "cZtYmPWgMvlk"
      },
      "source": [
        "Like the lists discussed before, tuples have a length, and individual elements can be extracted using square-bracket indexing:"
      ]
    },
    {
      "cell_type": "code",
      "execution_count": 26,
      "metadata": {
        "id": "DMmuydVgMvlk",
        "outputId": "bb6076ed-3d74-4793-de60-668e40d99919",
        "colab": {
          "base_uri": "https://localhost:8080/"
        }
      },
      "outputs": [
        {
          "output_type": "execute_result",
          "data": {
            "text/plain": [
              "3"
            ]
          },
          "metadata": {},
          "execution_count": 26
        }
      ],
      "source": [
        "len(t)"
      ]
    },
    {
      "cell_type": "code",
      "execution_count": 27,
      "metadata": {
        "id": "oGBGIre2Mvlk",
        "outputId": "3f0d035f-4b51-4259-f94d-e80eb55b1adf",
        "colab": {
          "base_uri": "https://localhost:8080/"
        }
      },
      "outputs": [
        {
          "output_type": "execute_result",
          "data": {
            "text/plain": [
              "1"
            ]
          },
          "metadata": {},
          "execution_count": 27
        }
      ],
      "source": [
        "t[0]"
      ]
    },
    {
      "cell_type": "markdown",
      "metadata": {
        "id": "G3-qJU72Mvlk"
      },
      "source": [
        "The main distinguishing feature of tuples is that they are *immutable*: this means that once they are created, their size and contents cannot be changed:"
      ]
    },
    {
      "cell_type": "code",
      "execution_count": 28,
      "metadata": {
        "id": "kBjn4LpMMvlk",
        "outputId": "9404e07e-9458-4409-c57d-8e6085824c49",
        "colab": {
          "base_uri": "https://localhost:8080/",
          "height": 141
        }
      },
      "outputs": [
        {
          "output_type": "error",
          "ename": "TypeError",
          "evalue": "'tuple' object does not support item assignment",
          "traceback": [
            "\u001b[0;31m---------------------------------------------------------------------------\u001b[0m",
            "\u001b[0;31mTypeError\u001b[0m                                 Traceback (most recent call last)",
            "\u001b[0;32m/tmp/ipython-input-3463816864.py\u001b[0m in \u001b[0;36m<cell line: 0>\u001b[0;34m()\u001b[0m\n\u001b[0;32m----> 1\u001b[0;31m \u001b[0mt\u001b[0m\u001b[0;34m[\u001b[0m\u001b[0;36m1\u001b[0m\u001b[0;34m]\u001b[0m \u001b[0;34m=\u001b[0m \u001b[0;36m4\u001b[0m\u001b[0;34m\u001b[0m\u001b[0;34m\u001b[0m\u001b[0m\n\u001b[0m",
            "\u001b[0;31mTypeError\u001b[0m: 'tuple' object does not support item assignment"
          ]
        }
      ],
      "source": [
        "t[1] = 4"
      ]
    },
    {
      "cell_type": "code",
      "execution_count": 29,
      "metadata": {
        "id": "Vk4WtMftMvlk",
        "outputId": "4797dc20-ac41-47c8-f371-d7ad7da68e76",
        "colab": {
          "base_uri": "https://localhost:8080/",
          "height": 141
        }
      },
      "outputs": [
        {
          "output_type": "error",
          "ename": "AttributeError",
          "evalue": "'tuple' object has no attribute 'append'",
          "traceback": [
            "\u001b[0;31m---------------------------------------------------------------------------\u001b[0m",
            "\u001b[0;31mAttributeError\u001b[0m                            Traceback (most recent call last)",
            "\u001b[0;32m/tmp/ipython-input-1693476538.py\u001b[0m in \u001b[0;36m<cell line: 0>\u001b[0;34m()\u001b[0m\n\u001b[0;32m----> 1\u001b[0;31m \u001b[0mt\u001b[0m\u001b[0;34m.\u001b[0m\u001b[0mappend\u001b[0m\u001b[0;34m(\u001b[0m\u001b[0;36m4\u001b[0m\u001b[0;34m)\u001b[0m\u001b[0;34m\u001b[0m\u001b[0;34m\u001b[0m\u001b[0m\n\u001b[0m",
            "\u001b[0;31mAttributeError\u001b[0m: 'tuple' object has no attribute 'append'"
          ]
        }
      ],
      "source": [
        "t.append(4)"
      ]
    },
    {
      "cell_type": "markdown",
      "metadata": {
        "id": "GU3K6jO_Mvlk"
      },
      "source": [
        "Tuples are often used in a Python program; a particularly common case is in functions that have multiple return values.\n",
        "For example, the ``as_integer_ratio()`` method of floating-point objects returns a numerator and a denominator; this dual return value comes in the form of a tuple:"
      ]
    },
    {
      "cell_type": "code",
      "execution_count": 30,
      "metadata": {
        "id": "oyBX-OUjMvlk",
        "outputId": "5ddf0b4a-0200-4f94-ed84-f030393ec662",
        "colab": {
          "base_uri": "https://localhost:8080/"
        }
      },
      "outputs": [
        {
          "output_type": "execute_result",
          "data": {
            "text/plain": [
              "(1, 8)"
            ]
          },
          "metadata": {},
          "execution_count": 30
        }
      ],
      "source": [
        "x = 0.125\n",
        "x.as_integer_ratio()"
      ]
    },
    {
      "cell_type": "markdown",
      "metadata": {
        "id": "_iRlLxG0Mvlk"
      },
      "source": [
        "These multiple return values can be individually assigned as follows:"
      ]
    },
    {
      "cell_type": "code",
      "execution_count": 31,
      "metadata": {
        "id": "FPHQDF-jMvlk",
        "outputId": "efaee627-c9c7-4ff4-9152-ebf66b6023dd",
        "colab": {
          "base_uri": "https://localhost:8080/"
        }
      },
      "outputs": [
        {
          "output_type": "stream",
          "name": "stdout",
          "text": [
            "0.125\n"
          ]
        }
      ],
      "source": [
        "numerator, denominator = x.as_integer_ratio()\n",
        "print(numerator / denominator)"
      ]
    },
    {
      "cell_type": "markdown",
      "metadata": {
        "id": "jtRO8z8BMvlk"
      },
      "source": [
        "The indexing and slicing logic covered earlier for lists works for tuples as well, along with a host of other methods.\n",
        "Refer to the online [Python documentation](https://docs.python.org/3/tutorial/datastructures.html) for a more complete list of these."
      ]
    },
    {
      "cell_type": "markdown",
      "metadata": {
        "id": "gGj1y5-rMvll"
      },
      "source": [
        "## Dictionaries\n",
        "Dictionaries are extremely flexible mappings of keys to values, and form the basis of much of Python's internal implementation.\n",
        "They can be created via a comma-separated list of ``key:value`` pairs within curly braces:"
      ]
    },
    {
      "cell_type": "code",
      "execution_count": 32,
      "metadata": {
        "id": "Z24PMU8aMvll"
      },
      "outputs": [],
      "source": [
        "numbers = {'one':1, 'two':2, 'three':3}"
      ]
    },
    {
      "cell_type": "markdown",
      "metadata": {
        "id": "z4ya3wZdMvll"
      },
      "source": [
        "Items are accessed and set via the indexing syntax used for lists and tuples, except here the index is not a zero-based order but valid key in the dictionary:"
      ]
    },
    {
      "cell_type": "code",
      "execution_count": 33,
      "metadata": {
        "id": "h-pHxm7yMvll",
        "outputId": "680017ae-3091-4a76-c8b8-5d05b2668662",
        "colab": {
          "base_uri": "https://localhost:8080/"
        }
      },
      "outputs": [
        {
          "output_type": "execute_result",
          "data": {
            "text/plain": [
              "2"
            ]
          },
          "metadata": {},
          "execution_count": 33
        }
      ],
      "source": [
        "# Access a value via the key\n",
        "numbers['two']"
      ]
    },
    {
      "cell_type": "markdown",
      "metadata": {
        "id": "ePcQJn4KMvll"
      },
      "source": [
        "New items can be added to the dictionary using indexing as well:"
      ]
    },
    {
      "cell_type": "code",
      "execution_count": 34,
      "metadata": {
        "id": "Zv9sLKAZMvll",
        "outputId": "e40c4f42-e9d5-4d27-ca96-4a17aca90ebd",
        "colab": {
          "base_uri": "https://localhost:8080/"
        }
      },
      "outputs": [
        {
          "output_type": "stream",
          "name": "stdout",
          "text": [
            "{'one': 1, 'two': 2, 'three': 3, 'ninety': 90}\n"
          ]
        }
      ],
      "source": [
        "# Set a new key:value pair\n",
        "numbers['ninety'] = 90\n",
        "print(numbers)"
      ]
    },
    {
      "cell_type": "markdown",
      "metadata": {
        "id": "OcK_KlXZMvll"
      },
      "source": [
        "Keep in mind that dictionaries do not maintain any sense of order for the input parameters; this is by design.\n",
        "This lack of ordering allows dictionaries to be implemented very efficiently, so that random element access is very fast, regardless of the size of the dictionary (if you're curious how this works, read about the concept of a *hash table*).\n",
        "\n",
        "When we try to access the value associated to an non-existent key, a ``KeyError`` appears:"
      ]
    },
    {
      "cell_type": "code",
      "execution_count": 35,
      "metadata": {
        "id": "i4zWfRGhMvll",
        "outputId": "9996e519-32ed-4b7e-87ec-719cddf51879",
        "colab": {
          "base_uri": "https://localhost:8080/",
          "height": 141
        }
      },
      "outputs": [
        {
          "output_type": "error",
          "ename": "KeyError",
          "evalue": "'five'",
          "traceback": [
            "\u001b[0;31m---------------------------------------------------------------------------\u001b[0m",
            "\u001b[0;31mKeyError\u001b[0m                                  Traceback (most recent call last)",
            "\u001b[0;32m/tmp/ipython-input-4036183056.py\u001b[0m in \u001b[0;36m<cell line: 0>\u001b[0;34m()\u001b[0m\n\u001b[0;32m----> 1\u001b[0;31m \u001b[0mnumbers\u001b[0m\u001b[0;34m[\u001b[0m\u001b[0;34m'five'\u001b[0m\u001b[0;34m]\u001b[0m\u001b[0;34m\u001b[0m\u001b[0;34m\u001b[0m\u001b[0m\n\u001b[0m",
            "\u001b[0;31mKeyError\u001b[0m: 'five'"
          ]
        }
      ],
      "source": [
        "numbers['five']"
      ]
    },
    {
      "cell_type": "markdown",
      "metadata": {
        "id": "UGPU8bGWMvll"
      },
      "source": [
        "Another possibility to retrieve the value associated to a key is to use the ``get()`` method of a dictionary:"
      ]
    },
    {
      "cell_type": "code",
      "execution_count": 36,
      "metadata": {
        "id": "i6jhrNLIMvll",
        "outputId": "11fc3888-98aa-4aa2-c0e0-01b6f9de6dd9",
        "colab": {
          "base_uri": "https://localhost:8080/"
        }
      },
      "outputs": [
        {
          "output_type": "execute_result",
          "data": {
            "text/plain": [
              "1"
            ]
          },
          "metadata": {},
          "execution_count": 36
        }
      ],
      "source": [
        "numbers.get('one')"
      ]
    },
    {
      "cell_type": "markdown",
      "metadata": {
        "id": "9uClMtRYMvlm"
      },
      "source": [
        "The benefit of ``get()`` is that in case of a non-existing key it doesn't return an error message, but simply ``None``."
      ]
    },
    {
      "cell_type": "code",
      "execution_count": 38,
      "metadata": {
        "id": "LAtEiMAeMvlm"
      },
      "outputs": [],
      "source": [
        "numbers.get('five')"
      ]
    },
    {
      "cell_type": "markdown",
      "metadata": {
        "id": "OrNMn21aMvlm"
      },
      "source": [
        "The [python documentation](https://docs.python.org/3/library/stdtypes.html) has a complete list of the methods available for dictionaries."
      ]
    },
    {
      "cell_type": "markdown",
      "metadata": {
        "id": "xmHkuFuXMvlm"
      },
      "source": [
        "### Exercise\n",
        "\n",
        "1. Create a dictionary, which contains as keys all the elements of a list and as values the corresponding number of occurences in the list. For example for the list\n",
        "```L = [1, 2, 3, 2]```\n",
        "the corresponding dictionary would be\n",
        "```{1:1, 2: 2, 3:1}```.\n",
        "\n",
        "2. Knowing that the year started with a day of Monday, determine on what day of the week would fall the 100-th, 243-th, 301-th day of the year."
      ]
    },
    {
      "cell_type": "markdown",
      "metadata": {
        "id": "DYvXDV9lMvlm"
      },
      "source": [
        "## Sets\n",
        "\n",
        "The fourth basic collection is the set, which contains unordered collections of unique items.\n",
        "They are defined much like lists and tuples, except they use the curly brackets of dictionaries:"
      ]
    },
    {
      "cell_type": "code",
      "execution_count": null,
      "metadata": {
        "id": "t2nBNIXIMvlm"
      },
      "outputs": [],
      "source": [
        "primes = {2, 3, 5, 7}\n",
        "odds = {1, 3, 5, 7, 9}"
      ]
    },
    {
      "cell_type": "markdown",
      "metadata": {
        "id": "-RASjoZcMvlm"
      },
      "source": [
        "If you're familiar with the mathematics of sets, you'll be familiar with operations like the union, intersection, difference, symmetric difference, and others.\n",
        "Python's sets have all of these operations built-in, via methods or operators.\n",
        "For each, we'll show the two equivalent methods:"
      ]
    },
    {
      "cell_type": "code",
      "execution_count": null,
      "metadata": {
        "id": "XxgAewvtMvlm"
      },
      "outputs": [],
      "source": [
        "# union: items appearing in either\n",
        "primes | odds      # with an operator\n",
        "primes.union(odds) # equivalently with a method"
      ]
    },
    {
      "cell_type": "code",
      "execution_count": null,
      "metadata": {
        "id": "XbhAtGaHMvlm"
      },
      "outputs": [],
      "source": [
        "# intersection: items appearing in both\n",
        "primes & odds             # with an operator\n",
        "primes.intersection(odds) # equivalently with a method"
      ]
    },
    {
      "cell_type": "code",
      "execution_count": null,
      "metadata": {
        "id": "azSS4xWrMvlm"
      },
      "outputs": [],
      "source": [
        "# difference: items in primes but not in odds\n",
        "primes - odds           # with an operator\n",
        "primes.difference(odds) # equivalently with a method"
      ]
    },
    {
      "cell_type": "code",
      "execution_count": null,
      "metadata": {
        "id": "3gJ36utcMvln"
      },
      "outputs": [],
      "source": [
        "# symmetric difference: items appearing in only one set\n",
        "primes ^ odds                     # with an operator\n",
        "primes.symmetric_difference(odds) # equivalently with a method"
      ]
    },
    {
      "cell_type": "markdown",
      "metadata": {
        "id": "NvP4ri2qMvln"
      },
      "source": [
        "Many more set methods and operations are available.\n",
        "You've probably already guessed what I'll say next: refer to Python's [online documentation](https://docs.python.org/3/library/stdtypes.html) for a complete reference.\n",
        "\n",
        "\n",
        "## Empty data structures\n",
        "* ``[]`` creates an empty list,\n",
        "* ``()`` creates an empty tuple,\n",
        "* ``{}`` creates an empty dictionary.\n",
        "\n",
        "The question 'How could one create an empty set?' raises naturally. For this one can use the `set()` constructor."
      ]
    },
    {
      "cell_type": "markdown",
      "metadata": {
        "id": "zaU8DgAWMvln"
      },
      "source": [
        "### Exercise\n",
        "\n",
        "We consider three categories of major allergy factors: milk, gluten and nuts. From all the participants of a dietary seminar we got the information whether they are allergic to these individual factors. We denote the participants by $P_1, P_2, \\ldots, P_{30}$. The collected information is summarized in the following code:"
      ]
    },
    {
      "cell_type": "code",
      "execution_count": null,
      "metadata": {
        "id": "PQ47k5B-Mvln"
      },
      "outputs": [],
      "source": [
        "Milk = {'P1', 'P3', 'P7', 'P10', 'P18'} #people being allergic to milk\n",
        "Gluten = {'P1', 'P10', 'P5', 'P22', 'P18'} #people being allergic to milk\n",
        "Nuts = {'P5', 'P10', 'P27'} #people being allergic to nuts"
      ]
    },
    {
      "cell_type": "markdown",
      "metadata": {
        "id": "MNyddO5TMvln"
      },
      "source": [
        "1. Who is allergic to milk, gluten and nuts, as well?\n",
        "\n",
        "2. Determine with set operations, which participants are allergic to exactly one factor."
      ]
    },
    {
      "cell_type": "markdown",
      "metadata": {
        "id": "QAtdkvlkMvln"
      },
      "source": [
        "## More Specialized Data Structures\n",
        "\n",
        "Python contains several other data structures that you might find useful; these can generally be found in the built-in ``collections`` module.\n",
        "The collections module is fully-documented in [Python's online documentation](https://docs.python.org/3/library/collections.html), and you can read more about the various objects available there.\n",
        "\n",
        "In particular, I've found the following very useful on occasion:\n",
        "\n",
        "- ``collections.namedtuple``: Like a tuple, but each value has a name\n",
        "- ``collections.defaultdict``: Like a dictionary, but unspecified keys have a user-specified default value\n",
        "- ``collections.OrderedDict``: Like a dictionary, but the order of keys is maintained\n",
        "\n",
        "Once you've seen the standard built-in collection types, the use of these extended functionalities is very intuitive, and I'd suggest [reading about their use](https://docs.python.org/3/library/collections.html)."
      ]
    },
    {
      "cell_type": "markdown",
      "metadata": {
        "id": "cJ-MWiINMvln"
      },
      "source": [
        "## The ``del`` statement\n",
        "\n",
        "The syntax of the ``del`` statement is:\n",
        "\n",
        "``del object_name``,\n",
        "\n",
        "where ``object_name`` can be variable(s), user-defined objects (also classes, attributes of classes), lists, items within lists, dictionaries etc.\n",
        "\n",
        "### ``del`` removes variable names from the namespace\n",
        "As a result of using del one can free up for example some variable names from the namespace. This command doesn't necessarily affect the object associated to the variable name, it frees up just the pointer (so that it can be used for other purposes maybe). However in some memory intensive applications it might be also used to prepare the objects to be erased by the garbage collector of Python."
      ]
    },
    {
      "cell_type": "code",
      "execution_count": null,
      "metadata": {
        "id": "GK_1iBKMMvln"
      },
      "outputs": [],
      "source": [
        "x = 2\n",
        "print('x =',x)"
      ]
    },
    {
      "cell_type": "code",
      "execution_count": null,
      "metadata": {
        "id": "1ZJuArmbMvln"
      },
      "outputs": [],
      "source": [
        "del(x)"
      ]
    },
    {
      "cell_type": "code",
      "execution_count": null,
      "metadata": {
        "id": "f-LJSDA3Mvln"
      },
      "outputs": [],
      "source": [
        "print(x)"
      ]
    },
    {
      "cell_type": "markdown",
      "metadata": {
        "id": "G2NM_QwVMvln"
      },
      "source": [
        "After deleting the variable ``x`` a reference to the variable creates a ``NameError``. We can apply ``del`` with a similar effect on a tuple, list, dictionary or set:"
      ]
    },
    {
      "cell_type": "code",
      "execution_count": null,
      "metadata": {
        "id": "CvIB_ZtpMvlo"
      },
      "outputs": [],
      "source": [
        "my_tuple = ('Sam', 25)\n",
        "my_list = [2, 3, 8]\n",
        "my_dictionary = {'Name': 'Sam', 'Age': 25}\n",
        "print('my_tuple =', my_tuple)\n",
        "print('my_list =', my_list)\n",
        "print('my_dictionary', my_dictionary)"
      ]
    },
    {
      "cell_type": "code",
      "execution_count": null,
      "metadata": {
        "id": "LvV4_nscMvlo"
      },
      "outputs": [],
      "source": [
        "del (my_tuple, my_list, my_dictionary)\n",
        "# del my_tuple\n",
        "# del my_list\n",
        "# del my_dictionary"
      ]
    },
    {
      "cell_type": "code",
      "execution_count": null,
      "metadata": {
        "id": "w01_0tBkMvlo"
      },
      "outputs": [],
      "source": [
        "print(my_tuple) #print(my_list) #print(my_dictionary)"
      ]
    },
    {
      "cell_type": "markdown",
      "metadata": {
        "id": "83WNyeqZMvlo"
      },
      "source": [
        "### ``del`` erases items and slices of a list\n",
        "The ``del`` statement can be also used to erase items or slices from lists:"
      ]
    },
    {
      "cell_type": "code",
      "execution_count": null,
      "metadata": {
        "id": "jzAy8w_HMvlo"
      },
      "outputs": [],
      "source": [
        "my_list = [1, 2, 3, 4, 5, 6, 7, 8, 9]\n",
        "print('my_list after definition:', my_list)\n",
        "\n",
        "# deleting the third item\n",
        "del my_list[2]\n",
        "\n",
        "# Output: [1, 2, 4, 5, 6, 7, 8, 9]\n",
        "print('my_list after deleting the 3rd element:', my_list)\n",
        "\n",
        "# deleting items from 2nd to 4th\n",
        "del my_list[1:4]\n",
        "\n",
        "# Output: [1, 6, 7, 8, 9]\n",
        "print('my_list after deleting the 3rd element and also the slice [1:4]', my_list)\n",
        "\n",
        "# deleting all elements\n",
        "del my_list[:]\n",
        "\n",
        "# Output: []\n",
        "print('my_list after the whole list was deleted', my_list)"
      ]
    },
    {
      "cell_type": "markdown",
      "metadata": {
        "id": "HH7UBJQ7Mvlo"
      },
      "source": [
        "### ``del`` removes key-value pairs from a dictionary"
      ]
    },
    {
      "cell_type": "markdown",
      "metadata": {
        "id": "Y7wZjyxpMvlo"
      },
      "source": [
        "``del`` can be used to remove key-value pairs from the dictionary:"
      ]
    },
    {
      "cell_type": "code",
      "execution_count": null,
      "metadata": {
        "id": "Gk5cC6HEMvlo"
      },
      "outputs": [],
      "source": [
        "person = { 'name': 'Sam',\n",
        "  'age': 25,\n",
        "  'profession': 'Programmer'\n",
        "}\n",
        "print('person after creation:', person)\n",
        "\n",
        "del person['profession']\n",
        "\n",
        "# Output: {'name': 'Sam', 'age': 25}\n",
        "print('person after deleting its profession:', person)"
      ]
    },
    {
      "cell_type": "markdown",
      "metadata": {
        "id": "0kMkMDXgMvlo"
      },
      "source": [
        "Items of tuples and strings cannot be deleted, as these objects are immutable:"
      ]
    },
    {
      "cell_type": "code",
      "execution_count": null,
      "metadata": {
        "id": "aFPh0g8RMvlo"
      },
      "outputs": [],
      "source": [
        "my_tuple = (1, 2, 3)\n",
        "\n",
        "# deleting tuple\n",
        "del my_tuple[2]"
      ]
    },
    {
      "cell_type": "markdown",
      "metadata": {
        "id": "TJ_lBfWxMvlo"
      },
      "source": [
        "## Creating custom data structures\n",
        "\n",
        "Many times we would like to handle data of a specific structure, for example we want to keep track of students of a class or clients of a business. For this purpose one can create custom data structures, this can be achieved by the ``class`` statement. To see a short introduction into classes consult [this link](https://www.mikedane.com/programming-languages/python/classes-objects/). A handy use case for classes can be found [here](https://www.mikedane.com/programming-languages/python/building-a-quiz/)."
      ]
    },
    {
      "cell_type": "markdown",
      "metadata": {
        "id": "nsGNJTXIMvlp"
      },
      "source": [
        "<!--NAVIGATION-->\n",
        "< [Built-In Types: Simple Values](01_05-Built-in-Scalar-Types.ipynb) | [Contents](Index.ipynb) | [Control Flow](01_07-Control-Flow-Statements.ipynb) >"
      ]
    }
  ],
  "metadata": {
    "anaconda-cloud": {},
    "kernelspec": {
      "display_name": "Python 3",
      "language": "python",
      "name": "python3"
    },
    "language_info": {
      "codemirror_mode": {
        "name": "ipython",
        "version": 3
      },
      "file_extension": ".py",
      "mimetype": "text/x-python",
      "name": "python",
      "nbconvert_exporter": "python",
      "pygments_lexer": "ipython3",
      "version": "3.6.10"
    },
    "colab": {
      "provenance": []
    }
  },
  "nbformat": 4,
  "nbformat_minor": 0
}